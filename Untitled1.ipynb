{
  "nbformat": 4,
  "nbformat_minor": 0,
  "metadata": {
    "colab": {
      "provenance": [],
      "authorship_tag": "ABX9TyM6qhI1J/5fhedRaYlDPi8w",
      "include_colab_link": true
    },
    "kernelspec": {
      "name": "python3",
      "display_name": "Python 3"
    },
    "language_info": {
      "name": "python"
    }
  },
  "cells": [
    {
      "cell_type": "markdown",
      "metadata": {
        "id": "view-in-github",
        "colab_type": "text"
      },
      "source": [
        "<a href=\"https://colab.research.google.com/github/jaidev12345/POAI-23456/blob/main/Untitled1.ipynb\" target=\"_parent\"><img src=\"https://colab.research.google.com/assets/colab-badge.svg\" alt=\"Open In Colab\"/></a>"
      ]
    },
    {
      "cell_type": "code",
      "execution_count": 3,
      "metadata": {
        "colab": {
          "base_uri": "https://localhost:8080/"
        },
        "id": "qaX4AT_0HApM",
        "outputId": "b49110b9-8d64-4587-8bd5-88edd232ade8"
      },
      "outputs": [
        {
          "output_type": "stream",
          "name": "stdout",
          "text": [
            "Path exists!\n"
          ]
        }
      ],
      "source": [
        "def dfs(maze, x, y, visited):\n",
        "    rows, cols = len(maze), len(maze[0])\n",
        "\n",
        "    # Check bounds and whether cell is a wall or already visited\n",
        "    if x < 0 or x >= rows or y < 0 or y >= cols or maze[x][y] == 0 or visited[x][y]:\n",
        "        return False\n",
        "\n",
        "    # Goal reached\n",
        "    if (x, y) == (rows - 1, cols - 1):\n",
        "        return True\n",
        "\n",
        "    visited[x][y] = True\n",
        "\n",
        "    # Explore neighbors (up, down, left, right)\n",
        "    if (dfs(maze, x + 1, y, visited) or\n",
        "        dfs(maze, x - 1, y, visited) or\n",
        "        dfs(maze, x, y + 1, visited) or\n",
        "        dfs(maze, x, y - 1, visited)):\n",
        "        return True\n",
        "\n",
        "    return False\n",
        "\n",
        "# Sample Maze: 1 is path, 0 is wall\n",
        "maze = [\n",
        "    [1, 0, 1, 1],\n",
        "    [1, 1, 1, 0],\n",
        "    [0, 0, 1, 1],\n",
        "    [1, 1, 1, 1]\n",
        "]\n",
        "\n",
        "visited = [[False]*len(maze[0]) for _ in range(len(maze))]\n",
        "\n",
        "if dfs(maze, 0, 0, visited):\n",
        "    print(\"Path exists!\")\n",
        "else:\n",
        "    print(\"No path found.\")\n"
      ]
    }
  ]
}